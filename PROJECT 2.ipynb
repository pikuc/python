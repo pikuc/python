{
 "cells": [
  {
   "cell_type": "code",
   "execution_count": null,
   "id": "7a5e8f1a",
   "metadata": {},
   "outputs": [],
   "source": [
    "1.Write a python program that asks the user for their age and then classifies them into one of three\n",
    "categories: \"child\" (0-12 years old), \"Teenager\" (13-19 year old), or \"Adult\"(20 years old and older)."
   ]
  },
  {
   "cell_type": "code",
   "execution_count": 5,
   "id": "d6ffa861",
   "metadata": {},
   "outputs": [
    {
     "name": "stdout",
     "output_type": "stream",
     "text": [
      "Enter the age:10\n",
      "Child\n"
     ]
    }
   ],
   "source": [
    "age = int(input(\"Enter the age:\"))\n",
    "\n",
    "if age<=12:\n",
    "    print(\"Child\")\n",
    "elif (age>=13) and (age<=19):\n",
    "    print((\"Teenager\"))\n",
    "else:\n",
    "    print(\"Adult\")"
   ]
  },
  {
   "cell_type": "code",
   "execution_count": null,
   "id": "b5b8948e",
   "metadata": {},
   "outputs": [],
   "source": [
    "2.Create a Python program that determines whether a given year is a leap year or not.Leap years are\n",
    "divisible by 4, but if they are also divisible by 100, they must also be divisible by 400 to be \n",
    "considered leap years."
   ]
  },
  {
   "cell_type": "code",
   "execution_count": 2,
   "id": "b871cfdf",
   "metadata": {},
   "outputs": [
    {
     "name": "stdout",
     "output_type": "stream",
     "text": [
      "Enter the year:2020\n",
      "Year is a leap year\n"
     ]
    }
   ],
   "source": [
    "year = int(input(\"Enter the year:\"))\n",
    "\n",
    "if (year%4==0 and year%100 != 0) or (year%400 ==0):\n",
    "    print(\"Year is a leap year\")\n",
    "else:\n",
    "    print(\"Year is not a leap year\")"
   ]
  },
  {
   "cell_type": "code",
   "execution_count": null,
   "id": "0ad5e9cf",
   "metadata": {},
   "outputs": [],
   "source": [
    "3.Write a Python program to determine the grade of a student based on their exam score. The grading\n",
    "scale is as follows:\n",
    "    \n",
    "Score >= 90: \"A\"\n",
    "80 <= Score < 90: \"B\"\n",
    "70 <= Score < 80: \"C\"\n",
    "60 <= Score < 70: \"D\"\n",
    "Score < 60: \"F\"\n",
    "    "
   ]
  },
  {
   "cell_type": "code",
   "execution_count": 4,
   "id": "bfc800d7",
   "metadata": {},
   "outputs": [
    {
     "name": "stdout",
     "output_type": "stream",
     "text": [
      "Enter the score: 50\n",
      "Your grade is: F\n"
     ]
    }
   ],
   "source": [
    "score = int(input(\"Enter the score: \"))\n",
    "\n",
    "if score>=90:\n",
    "    grade =\"A\"\n",
    "elif score>=80:\n",
    "    grade =\"B\"\n",
    "elif score>=70:\n",
    "    grade=\"C\"\n",
    "elif score>=60:\n",
    "    grade =\"D\"\n",
    "else:\n",
    "    grade =\"F\"\n",
    "    \n",
    "# f string\n",
    "\n",
    "print(f\"Your grade is:\",grade)"
   ]
  },
  {
   "cell_type": "code",
   "execution_count": null,
   "id": "df209516",
   "metadata": {},
   "outputs": [],
   "source": []
  }
 ],
 "metadata": {
  "kernelspec": {
   "display_name": "Python 3 (ipykernel)",
   "language": "python",
   "name": "python3"
  },
  "language_info": {
   "codemirror_mode": {
    "name": "ipython",
    "version": 3
   },
   "file_extension": ".py",
   "mimetype": "text/x-python",
   "name": "python",
   "nbconvert_exporter": "python",
   "pygments_lexer": "ipython3",
   "version": "3.11.5"
  }
 },
 "nbformat": 4,
 "nbformat_minor": 5
}
