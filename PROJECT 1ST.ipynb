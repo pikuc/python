{
 "cells": [
  {
   "cell_type": "code",
   "execution_count": 19,
   "id": "f0689019",
   "metadata": {},
   "outputs": [
    {
     "name": "stdout",
     "output_type": "stream",
     "text": [
      "Please Enter the First value a: 25\n",
      "Please Enter the Second value b: 15\n",
      "25.0 is greater than 15.0\n"
     ]
    }
   ],
   "source": [
    "# Quition 1.- Write a python program that takes two numbers as input and prints the larger number.\n",
    "\n",
    "a = float(input(\"Please Enter the First value a: \"))\n",
    "b = float(input(\"Please Enter the Second value b: \"))\n",
    "\n",
    "if(a > b):\n",
    "    print(\"{0} is greater than {1}\".format(a, b))\n",
    "elif(b > a):\n",
    "    print(\"{a} is greater than {1}\".format(b, a))\n",
    "else:\n",
    "    print(\"Both a and b are Equal\")"
   ]
  },
  {
   "cell_type": "code",
   "execution_count": 47,
   "id": "02c63247",
   "metadata": {},
   "outputs": [],
   "source": [
    "# qution 2.- Create a python program that asks the user for a month (1-12) and then  prints the \n",
    "#corresponding season(\"Spring\" \"Summer\" \"Fall\" or \"Winter\"    "
   ]
  },
  {
   "cell_type": "code",
   "execution_count": 46,
   "id": "c341d395",
   "metadata": {},
   "outputs": [
    {
     "name": "stdout",
     "output_type": "stream",
     "text": [
      "2023-03-01 --> Spring\n"
     ]
    }
   ],
   "source": [
    "import datetime\n",
    "from datetime import date\n",
    "\n",
    "def get_season(date):\n",
    "    m = date.month\n",
    "    x =m%12 // 3 + 1\n",
    "    if x == 1:\n",
    "        season = \"Winter\"\n",
    "    if x == 2:\n",
    "        season = \"Spring\"\n",
    "    if x == 3:\n",
    "        season = \"Summer\"\n",
    "    if x == 4:\n",
    "        season= \"Autumn\"\n",
    "    return season\n",
    "\n",
    "x = date(2023,3,1)\n",
    "print(x, \"-->\", get_season(x))"
   ]
  },
  {
   "cell_type": "code",
   "execution_count": 32,
   "id": "5f8f81c9",
   "metadata": {},
   "outputs": [
    {
     "name": "stdout",
     "output_type": "stream",
     "text": [
      "Enter Year:2004\n",
      "2004 is a Leap Year\n"
     ]
    }
   ],
   "source": [
    "# Qution 3.-Write a python program that determines whether a given year is a leap year or not. Use\n",
    "#the leap year rules mentioned earllier.\n",
    "\n",
    "year = int(input(\"Enter Year:\"))\n",
    "\n",
    "# Leap year check\n",
    "if year % 4 == 0 and year % 100 != 0:\n",
    "    print(year, \"is a Leap Year\")\n",
    "elif year % 100 == 0:\n",
    "    print(year, \"is not a Leap Year\")\n",
    "elif year % 400 ==0:\n",
    "    print(year, \"is a Leap Year\")\n",
    "else:\n",
    "    print(year, \"is not a Leap Year\")\n"
   ]
  },
  {
   "cell_type": "code",
   "execution_count": 9,
   "id": "c8aba821",
   "metadata": {},
   "outputs": [
    {
     "name": "stdout",
     "output_type": "stream",
     "text": [
      "Enter the number : 20\n",
      "positive\n",
      "Enter the number : -20\n",
      "Negative\n"
     ]
    }
   ],
   "source": [
    "# Qution 4.- Create a program that takes an integer as input and vhecks if its positive, negative,or\n",
    "# zero. Print an appropriate message.\n",
    "\n",
    "\n",
    "num = float(input(\"Enter the number : \"))\n",
    "\n",
    "if num > 0:\n",
    "    print(\"positive\")\n",
    "elif num == 0:\n",
    "    print(\"Zero\")\n",
    "else:\n",
    "    print(\"Negative\")\n",
    "\n",
    "    \n",
    "num = float(input(\"Enter the number : \"))\n",
    "\n",
    "if num > 0:\n",
    "    print(\"positive\")\n",
    "elif num == 0:\n",
    "    print(\"Zero\")\n",
    "else:\n",
    "    print(\"Negative\")"
   ]
  },
  {
   "cell_type": "code",
   "execution_count": 11,
   "id": "396179fb",
   "metadata": {},
   "outputs": [
    {
     "name": "stdout",
     "output_type": "stream",
     "text": [
      "Enter the age: 21\n",
      "Enter the gender (M/F): m\n",
      "You are an old man\n"
     ]
    }
   ],
   "source": [
    "# Qution 5.- Write a python program that asks the user user for their age and gender. Based  on their\n",
    "#age and gender. print a message like \"You are a young man an oldwoman\n",
    "\n",
    "\n",
    "age = int(input(\"Enter the age: \"))\n",
    "gender = input(\"Enter the gender (M/F): \").upper()\n",
    "\n",
    "if age<18: # satisfy when the age <18\n",
    "    if gender == \"M\":\n",
    "        print(\"You are a young boy\")\n",
    "    elif gender ==\"F\":\n",
    "        print(\"You are a young gril\")\n",
    "        \n",
    "\n",
    "else: # satisfy when age > 18\n",
    "    if gender == \"M\":\n",
    "        print(\"You are an old man\")\n",
    "    elif gender  == \"F\":\n",
    "        print(\"You are an old woman \")"
   ]
  },
  {
   "cell_type": "code",
   "execution_count": 16,
   "id": "eecde625",
   "metadata": {},
   "outputs": [
    {
     "name": "stdout",
     "output_type": "stream",
     "text": [
      "Enter the temperature: 23\n",
      "Celsius to fahrenheit conversion is:  73.4\n"
     ]
    }
   ],
   "source": [
    "# Qution 6.-Create a program that takes a temperature in Celsius and converts it to Fahrenheit.\n",
    "#Display the result with an appropriate message.\n",
    "\n",
    "# temp : float\n",
    "\n",
    "celsius = float(input(\"Enter the temperature: \"))\n",
    "\n",
    "# conversion celsius to fahrenheit\n",
    "\n",
    "# multiply by 1.8 (9/5) and add 32.\n",
    "\n",
    "fahrenheit = (celsius * 9/5) + 32\n",
    "\n",
    "print(\"Celsius to fahrenheit conversion is: \", fahrenheit)\n"
   ]
  },
  {
   "cell_type": "code",
   "execution_count": 17,
   "id": "9806cc54",
   "metadata": {},
   "outputs": [
    {
     "name": "stdout",
     "output_type": "stream",
     "text": [
      "Enter the temperature: 18.9\n",
      "Celsius to fahrenheit conversion in fahrenheit is:  66.02\n"
     ]
    }
   ],
   "source": [
    "celsius = float(input(\"Enter the temperature: \"))\n",
    "\n",
    "fahrenheit = (celsius * 9/5) + 32\n",
    "\n",
    "print(\"Celsius to fahrenheit conversion in fahrenheit is: \", fahrenheit)\n"
   ]
  },
  {
   "cell_type": "code",
   "execution_count": null,
   "id": "2428fe23",
   "metadata": {},
   "outputs": [],
   "source": [
    "# Qution 7.-Write a python program that calculates the shipping cost based on the weight of a package\n",
    "Use the following rules:\n",
    "* Weight <= 2pounds:5.00-2pounds <Weight <=10pounds :10.00\n",
    "* Weight >10 pounds:$15.00\n",
    "    "
   ]
  },
  {
   "cell_type": "code",
   "execution_count": 18,
   "id": "e5da900d",
   "metadata": {},
   "outputs": [
    {
     "name": "stdout",
     "output_type": "stream",
     "text": [
      "Enter the weight in pounds: 5\n",
      "The shipping cost is:  10.0\n"
     ]
    }
   ],
   "source": [
    "weight = float(input(\"Enter the weight in pounds: \"))\n",
    "\n",
    "# shipping cost based on weight\n",
    "\n",
    "if weight <2:\n",
    "    shipping_cost = 5.00\n",
    "elif weight<=10:\n",
    "    shipping_cost = 10.00\n",
    "else:\n",
    "    shipping_cost = 15.00\n",
    "    \n",
    "print(\"The shipping cost is: \",shipping_cost)\n"
   ]
  },
  {
   "cell_type": "code",
   "execution_count": 13,
   "id": "8c3e1c5f",
   "metadata": {},
   "outputs": [
    {
     "name": "stdout",
     "output_type": "stream",
     "text": [
      "Enter the number 1: 33\n",
      "Enter the number 2: 33\n",
      "Enter the number 3: 44\n",
      "Numbers in ascending order are:  [33, 33, 44]\n"
     ]
    }
   ],
   "source": [
    "# Qution 8.-Create a program that asks the user for three numbers and then prints them in ascending\n",
    "#order.\n",
    "\n",
    "num1 = int(input(\"Enter the number 1: \"))\n",
    "num2 = int(input(\"Enter the number 2: \"))\n",
    "num3 = int(input(\"Enter the number 3: \"))\n",
    "\n",
    "\n",
    "# sort the numbers in ascending order\n",
    "\n",
    "sorted_numbers = sorted([num1,num2,num3])\n",
    "\n",
    "print(\"Numbers in ascending order are: \", sorted_numbers)"
   ]
  },
  {
   "cell_type": "code",
   "execution_count": 15,
   "id": "43d0ac04",
   "metadata": {},
   "outputs": [
    {
     "name": "stdout",
     "output_type": "stream",
     "text": [
      "Enter the year: 2000\n",
      "It is a leap year century\n"
     ]
    }
   ],
   "source": [
    "# Qution 9.-Write a python program that checks if a given year is a \"century year\" (ends in 00). if \n",
    "#its a century year. check if its a leap year.\n",
    "\n",
    "\n",
    "year = int(input(\"Enter the year: \"))\n",
    "\n",
    "# check if the year is a century year\n",
    "\n",
    "if year%100==0:\n",
    "    if year%400==0:\n",
    "        print(\"It is a leap year century\")\n",
    "    else:\n",
    "        print(\"Not a century leap year\")\n",
    "        \n",
    "else:\n",
    "    print(\"Not a century year\")\n"
   ]
  },
  {
   "cell_type": "code",
   "execution_count": 27,
   "id": "f031b73e",
   "metadata": {},
   "outputs": [
    {
     "name": "stdout",
     "output_type": "stream",
     "text": [
      "Enter any number: 34\n",
      "34 is an even number\n"
     ]
    }
   ],
   "source": [
    "# Qution 10.- Create a program that asks the user for a number and then determines if its even or odd\n",
    "#Print an appropriate message. \n",
    "\n",
    "\n",
    "num = int(input(\"Enter any number: \"))\n",
    "flag = num%2\n",
    "if flag == 0:\n",
    "    print(num, \"is an even number\")\n",
    "elif flag == 1:\n",
    "    print(num, \"is an odd number\")\n",
    "else:\n",
    "    print(\"Error, Invalid input\")"
   ]
  },
  {
   "cell_type": "code",
   "execution_count": null,
   "id": "52e93cfc",
   "metadata": {},
   "outputs": [],
   "source": []
  },
  {
   "cell_type": "code",
   "execution_count": null,
   "id": "bbee7710",
   "metadata": {},
   "outputs": [],
   "source": []
  },
  {
   "cell_type": "code",
   "execution_count": null,
   "id": "1fc6b19b",
   "metadata": {},
   "outputs": [],
   "source": []
  },
  {
   "cell_type": "code",
   "execution_count": null,
   "id": "d71251ca",
   "metadata": {},
   "outputs": [],
   "source": []
  }
 ],
 "metadata": {
  "kernelspec": {
   "display_name": "Python 3 (ipykernel)",
   "language": "python",
   "name": "python3"
  },
  "language_info": {
   "codemirror_mode": {
    "name": "ipython",
    "version": 3
   },
   "file_extension": ".py",
   "mimetype": "text/x-python",
   "name": "python",
   "nbconvert_exporter": "python",
   "pygments_lexer": "ipython3",
   "version": "3.11.5"
  }
 },
 "nbformat": 4,
 "nbformat_minor": 5
}
